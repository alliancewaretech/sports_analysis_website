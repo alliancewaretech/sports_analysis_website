{
 "cells": [
  {
   "cell_type": "code",
   "execution_count": 1,
   "id": "77e248b8",
   "metadata": {},
   "outputs": [
    {
     "name": "stdout",
     "output_type": "stream",
     "text": [
      "Nitin\n"
     ]
    }
   ],
   "source": [
    "print(\"Nitin\")"
   ]
  },
  {
   "cell_type": "code",
   "execution_count": 8,
   "id": "234dc4d0",
   "metadata": {},
   "outputs": [
    {
     "name": "stdout",
     "output_type": "stream",
     "text": [
      "Empty DataFrame\n",
      "Columns: [Type, Delivery_Status, Customer_City, Customer_Country, Customer_Segment, Customer_State, Customer_Street, Department_Name, Market, Order_City, Order_Country, Order_Region, Order_State, Order_Status, Product_Name, Shipping_Mode, Category_Id, Category_Name, Customer_Id, Department_Id, Order_Customer_Id, Order_Id, Order_Item_Cardprod_Id, Order_Item_Id, Product_Card_Id, Product_Category_Id, Days_for_shipping_(real), Days_for_shipment_(scheduled), Late_delivery_risk, Order_Item_Quantity, Benefit_per_order, Sales_per_customer, Latitude, Longitude, Order_Item_Discount, Order_Item_Discount_Rate, Order_Item_Product_Price, Order_Item_Profit_Ratio, Sales, Order_Item_Total, Order_Profit_Per_Order, Product_Price, order_date, shipping_date]\n",
      "Index: []\n",
      "\n",
      "[0 rows x 44 columns]\n"
     ]
    }
   ],
   "source": [
    "import psycopg2\n",
    "import pandas as pd\n",
    "from sqlalchemy import create_engine\n",
    "import os.path, sys\n",
    "#sys.path.append(os.path.join(os.path.dirname(os.path.realpath(__file__)), os.pardir))\n",
    "import constants\n",
    "from load import test\n",
    "class PostgresSqlReader:\n",
    "    def __init__(self):\n",
    "        self.engine = create_engine(\"postgresql+psycopg2://{0}:{1}@{2}\".format(constants.POSTGRES_USER,constants.POSTGRES_PASSWORD,constants.POSTGRES_HOST))\n",
    "        self.conn = self.engine.connect()\n",
    "\n",
    "    def read_table(self,table):\n",
    "        df = pd.read_sql_table(\"supply_chain\",self.conn)\n",
    "        return df\n",
    "\n",
    "#df = pd.read_sql(\"select * from public.supply_chain\", con = engine)\n",
    "\n",
    "\n",
    "\n",
    "\n",
    "if __name__==\"__main__\":\n",
    "    sc = PostgresSqlReader()\n",
    "    print(sc.read_table(\"supply_chain\"))\n",
    "\n",
    "\n",
    "\n",
    "\n",
    "\n"
   ]
  },
  {
   "cell_type": "code",
   "execution_count": null,
   "id": "7b28c4f8",
   "metadata": {},
   "outputs": [],
   "source": []
  }
 ],
 "metadata": {
  "kernelspec": {
   "display_name": "venv",
   "language": "python",
   "name": "venv"
  },
  "language_info": {
   "codemirror_mode": {
    "name": "ipython",
    "version": 3
   },
   "file_extension": ".py",
   "mimetype": "text/x-python",
   "name": "python",
   "nbconvert_exporter": "python",
   "pygments_lexer": "ipython3",
   "version": "3.9.13"
  }
 },
 "nbformat": 4,
 "nbformat_minor": 5
}
